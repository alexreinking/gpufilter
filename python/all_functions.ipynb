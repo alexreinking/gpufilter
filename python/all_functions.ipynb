{
 "cells": [
  {
   "cell_type": "markdown",
   "metadata": {},
   "source": [
    "# Parallel Recursive Filtering of Infinite Input Extensions\n",
    "## All functions needed and defined by the paper are in this notebook\n",
    "### It also includes original functions from previous papers\n",
    "#### This an auxiliary notebook, it runs from other notebooks, it depends on the following imports: math; cmath; numpy as np; scipy.linalg as linalg"
   ]
  },
  {
   "cell_type": "markdown",
   "metadata": {},
   "source": [
    "## Define basic recursive filtering functions"
   ]
  },
  {
   "cell_type": "code",
   "execution_count": null,
   "metadata": {
    "collapsed": true
   },
   "outputs": [],
   "source": [
    "def qs(s):\n",
    "    '''Compute recursive filtering scaling factor'''\n",
    "    return np.float64(0.00399341) + np.float64(0.4715161) * s\n",
    "def dsc(d, s):\n",
    "    '''Rescale poles of the recursive filtering z-transform'''\n",
    "    q = qs(s)\n",
    "    r, phi = cmath.polar(d)\n",
    "    return cmath.rect(pow(r,np.float64(1.0)/q), phi/q)\n",
    "def dsr(d, s):\n",
    "    '''Rescale poles in the real-axis of the recursive filtering z-transform'''\n",
    "    return pow(d, np.float64(1.0)/qs(s))"
   ]
  },
  {
   "cell_type": "code",
   "execution_count": null,
   "metadata": {
    "collapsed": true
   },
   "outputs": [],
   "source": [
    "def weights1(s):\n",
    "    '''Compute [van Vliet et al. 1998] 1st-order filter weights'''\n",
    "    s = np.float64(s)\n",
    "    d3 = np.float64(1.86543)\n",
    "    d = dsr(d3, s)\n",
    "    b0 = -(np.float64(1.0)-d)/d\n",
    "    a1 = np.float64(-1.0)/d\n",
    "    return b0, a1\n",
    "def weights2(s):\n",
    "    '''Compute [van Vliet et al. 1998] 2nd-order filter weights'''\n",
    "    s = np.float64(s)\n",
    "    d1 = complex(np.float64(1.41650), np.float64(1.00829))\n",
    "    d = dsc(d1, s)\n",
    "    n2 = abs(d)\n",
    "    n2 *= n2\n",
    "    re = d.real\n",
    "    b0 = (np.float64(1.0)-np.float64(2.0)*re+n2)/n2\n",
    "    a1 = np.float64(-2.0)*re/n2\n",
    "    a2 = np.float64(1.0)/n2\n",
    "    return b0, a1, a2\n",
    "def weightsk(n, k, epsilon=0.0001, theta=1.2):\n",
    "    '''Compute arbitrary weights'''\n",
    "    rho = pow(epsilon * math.sin(theta), 1./float(k*n))\n",
    "    x = rho * math.cos(theta)\n",
    "    y = rho * math.sin(theta)\n",
    "    b0 = 1\n",
    "    a1 = -2 * x\n",
    "    a2 = x*x + y*y\n",
    "    return b0, a1, a2"
   ]
  },
  {
   "cell_type": "code",
   "execution_count": null,
   "metadata": {
    "collapsed": true
   },
   "outputs": [],
   "source": [
    "def fwd(prol, bloc, weig):\n",
    "    '''Forward filter: vectors of prologue, 1D block and weights'''\n",
    "    for j, _ in enumerate(bloc):\n",
    "        bloc[j] *= weig[0]\n",
    "        for k, _ in enumerate(weig[1:],start=1):\n",
    "            if (j-k) < 0: # use data from prologue\n",
    "                bloc[j] -= prol[j-k]*weig[k]\n",
    "            else: # use data from block\n",
    "                bloc[j] -= bloc[j-k]*weig[k]\n",
    "def FT(Prol, Bloc, weig):\n",
    "    '''Forward-transpose filter: matrix of prologues and block'''\n",
    "    FTB = np.copy(Bloc).astype(np.float64)\n",
    "    for row, _ in enumerate(FTB):\n",
    "        fwd(Prol[row], FTB[row], weig)\n",
    "    return FTB\n",
    "def F(Prol, Bloc, weig):\n",
    "    '''Forward filter: matrix of prologues and block'''\n",
    "    return FT(Prol.transpose(), Bloc.transpose(), weig).transpose()"
   ]
  },
  {
   "cell_type": "code",
   "execution_count": null,
   "metadata": {
    "collapsed": true
   },
   "outputs": [],
   "source": [
    "def rev(bloc, epil, weig):\n",
    "    '''Reverse filter: vector of 1D block, epilogue and weights'''\n",
    "    for j, _ in enumerate(bloc):\n",
    "        j = len(bloc)-1-j\n",
    "        bloc[j] *= weig[0]\n",
    "        for k, _ in enumerate(weig[1:],start=1):\n",
    "            if (j+k) >= len(bloc): # use data from epilogue\n",
    "                bloc[j] -= epil[j+k-len(bloc)]*weig[k]\n",
    "            else: # use data from block\n",
    "                bloc[j] -= bloc[j+k]*weig[k]\n",
    "def RT(Bloc, Epil, weig):\n",
    "    '''Reverse-transpose filter: matrix of epilogues and 2D block'''\n",
    "    RTB = np.copy(Bloc).astype(np.float64)\n",
    "    for row, _ in enumerate(RTB):\n",
    "        rev(RTB[row], Epil[row], weig)\n",
    "    return RTB\n",
    "def R(Bloc, Epil, weig):\n",
    "    '''Reverse filter: matrix of epilogues and 2D block'''\n",
    "    return RT(Bloc.transpose(), Epil.transpose(), weig).transpose()"
   ]
  },
  {
   "cell_type": "code",
   "execution_count": null,
   "metadata": {
    "collapsed": true
   },
   "outputs": [],
   "source": [
    "def H(X, r):\n",
    "    '''Head operator: 2D matrix X and filter order r'''\n",
    "    return X[:r]\n",
    "def T(X, r):\n",
    "    '''Tail operator: 2D matrix X and filter order r'''\n",
    "    return X[-r:]\n",
    "def HT(X, r):\n",
    "    '''Head-transpose operator: 2D matrix X and filter order r'''\n",
    "    return X[:,:r]\n",
    "def TT(X, r):\n",
    "    '''Tail-transpose operator: 2D matrix X and filter order r'''\n",
    "    return X[:,-r:]"
   ]
  },
  {
   "cell_type": "code",
   "execution_count": null,
   "metadata": {
    "collapsed": true
   },
   "outputs": [],
   "source": [
    "def flip(Bloc):\n",
    "    '''Flip both rows and columns, numpy flips give only\n",
    "    np.fliplr for flip_cols and np.flipud for flip_rows'''\n",
    "    FlipBloc = np.zeros(Bloc.shape, dtype=np.float64)\n",
    "    for i in range(Bloc.shape[0]):\n",
    "        for j in range(Bloc.shape[1]):\n",
    "            FlipBloc[i][j] = Bloc[Bloc.shape[0]-1-i][Bloc.shape[1]-1-j]\n",
    "    return FlipBloc"
   ]
  },
  {
   "cell_type": "markdown",
   "metadata": {},
   "source": [
    "## alg5: Algorithm 5 with zero feedback functions"
   ]
  },
  {
   "cell_type": "code",
   "execution_count": null,
   "metadata": {
    "collapsed": true
   },
   "outputs": [],
   "source": [
    "def get_mn(X, b):\n",
    "    '''Get (m,n) of X given b, (m,n) are the number of blocks\n",
    "    inside image X of size b, X as a np.ndarray with shape as\n",
    "    (number of rows, number of columns)'''\n",
    "    m = int(math.ceil(X.shape[0] / float(b)))\n",
    "    n = int(math.ceil(X.shape[1] / float(b)))\n",
    "    return m, n\n",
    "def break_blocks(X, b, m_size=None, n_size=None):\n",
    "    '''Break image X into blocks of size b,\n",
    "    where (m,n) sizes are optionally given'''\n",
    "    if m_size is None or n_size is None:\n",
    "        m_size, n_size = get_mn(X, b)\n",
    "    blocks = np.empty((m_size,n_size,b,b), dtype=np.float64)\n",
    "    for m in range(m_size):\n",
    "        for n in range(n_size):\n",
    "            blocks[m][n] = X[m*b:(m+1)*b,n*b:(n+1)*b]\n",
    "    return blocks\n",
    "def join_blocks(blocks, b, m_size, n_size, Xshape):\n",
    "    '''Join blocks of size b back into returned image X\n",
    "    given (m,n) sizes and the shape of the original image'''\n",
    "    image = np.empty(Xshape, dtype=np.float64)\n",
    "    for m in range(m_size):\n",
    "        for n in range(n_size):\n",
    "            image[m*b:(m+1)*b,n*b:(n+1)*b] = blocks[m][n]\n",
    "    return image"
   ]
  },
  {
   "cell_type": "code",
   "execution_count": null,
   "metadata": {
    "collapsed": true
   },
   "outputs": [],
   "source": [
    "def build_alg5_matrices(b, r, wgt, width, height):\n",
    "    '''Build all algorithm 5 matrices and return them packed'''\n",
    "    Zrb = np.zeros((r, b), dtype=np.float64)\n",
    "    Zbr = np.zeros((b, r), dtype=np.float64)\n",
    "    Ir = np.identity(r, dtype=np.float64)\n",
    "    Ib = np.identity(b, dtype=np.float64)\n",
    "    Zwr = np.zeros((width, r), dtype=np.float64)\n",
    "    Zrh = np.zeros((r, height), dtype=np.float64)\n",
    "    K = np.copy(np.flipud(Ir)).astype(np.float64)\n",
    "    AFP = F(Ir, Zbr, wgt)\n",
    "    AFB = F(Zrb, Ib, wgt)\n",
    "    ARE = R(Zbr, Ir, wgt)\n",
    "    ARB = R(Ib, Zrb, wgt)\n",
    "    TAFP = AbF = T(AFP, r)\n",
    "    HARE = AbR = H(ARE, r)\n",
    "    HARB = H(ARB, r)\n",
    "    HARB_AFP = np.dot(HARB, AFP)\n",
    "    HARB_AFB = np.dot(HARB, AFB)\n",
    "    TAFPT = AbFT = TAFP.transpose()\n",
    "    TAFBT = T(AFB, r).transpose()\n",
    "    ARB_AFP = np.dot(ARB, AFP)\n",
    "    HARET = AbRT = HARE.transpose()\n",
    "    HARB_AFPT = HARB_AFP.transpose()\n",
    "    HARB_AFBT = HARB_AFB.transpose()\n",
    "    ArF = H(AFP, r)\n",
    "    ArR = flip(ArF)\n",
    "    AbarF = np.zeros((r, r))\n",
    "    for i in range(r):\n",
    "        AbarF[i][i] = wgt[0]\n",
    "        for j in range(i+1, r):\n",
    "            AbarF[j][i] = ArF[j-i-1][r-1] * wgt[0]\n",
    "    AbarR = flip(AbarF)\n",
    "    AwF = T(F(Ir, Zwr, wgt), r)\n",
    "    AwR = H(R(Zwr, Ir, wgt), r)\n",
    "    AhF = TT(FT(Ir, Zrh, wgt), r)\n",
    "    AhR = HT(RT(Zrh, Ir, wgt), r)\n",
    "    # 0, 1, 2, 3, 4, 5, 6, 7\n",
    "    # 8, 9, 10, 11, 12\n",
    "    # 13, 14, 15, 16, 17, 18, 19, 20\n",
    "    # 21, 22, 23, 24\n",
    "    return (Zrb, Zbr, Ir, Ib, AFP, AFB, AbF, AbR,\\\n",
    "            HARB_AFP, AbFT, AbRT, HARB_AFPT, HARB_AFBT,\\\n",
    "            ARB_AFP, TAFBT, ARE, K, ArF, ArR, AbarF, AbarR,\\\n",
    "            AwF, AwR, AhF, AhR)\n",
    "def build_alg5_carries(m_size, n_size, b, r):\n",
    "    '''Build all carries with zero values and return them packed'''\n",
    "    P = np.zeros((m_size+1,n_size,r,b), dtype=np.float64)\n",
    "    E = np.zeros((m_size+1,n_size,r,b), dtype=np.float64)\n",
    "    Pt = np.zeros((m_size,n_size+1,b,r), dtype=np.float64)\n",
    "    Et = np.zeros((m_size,n_size+1,b,r), dtype=np.float64)\n",
    "    return (P, E, Pt, Et)"
   ]
  },
  {
   "cell_type": "markdown",
   "metadata": {},
   "source": [
    "#### P[-1][n] is ok in Python since the -1 index points at the last element of the list reserved to be the extra prologue prior to the image, in C the index 0 is reserved for this purpose and all indices are plus-one'd because of this (the epilogues E works fine since the last element m_size is reserved to be the extra epilogue at the same position, no alteration on indices are necessary); transposed versions follow analogously"
   ]
  },
  {
   "cell_type": "code",
   "execution_count": null,
   "metadata": {
    "collapsed": true
   },
   "outputs": [],
   "source": [
    "def alg5_stage1(m_size, n_size, r, wgt, matrices, carries, blocks):\n",
    "    '''Algorithm 5 stage 1'''\n",
    "    # unpack first two pre-computed matrices\n",
    "    Zrb, Zbr = matrices[:2]\n",
    "    P, E, Pt, Et = carries # unpack carries\n",
    "    for n in range(n_size):\n",
    "        for m in range(m_size):\n",
    "            B = blocks[m][n]\n",
    "            B = F(Zrb, B, wgt)\n",
    "            P[m][n] = T(B, r)\n",
    "            B = R(B, Zrb, wgt)\n",
    "            E[m][n] = H(B, r)\n",
    "            B = FT(Zbr, B, wgt)\n",
    "            Pt[m][n] = TT(B, r)\n",
    "            B = RT(B, Zbr, wgt)\n",
    "            Et[m][n] = HT(B, r)"
   ]
  },
  {
   "cell_type": "code",
   "execution_count": null,
   "metadata": {
    "collapsed": true
   },
   "outputs": [],
   "source": [
    "def alg5_stage23(m_size, n_size, matrices, carries):\n",
    "    '''Algorithm 5 stages 2 and 3'''\n",
    "    # unpack three pre-computed matrices\n",
    "    AbF, AbR, HARB_AFP = matrices[6:9]\n",
    "    P, E, Pt, Et = carries # unpack carries\n",
    "    for n in range(n_size): # In parallel for all n,\n",
    "        for m in range(m_size): # sequentially for each m,\n",
    "            P[m][n] = P[m][n] \\\n",
    "                + np.dot(AbF, P[m-1][n]) # eqn. (24)\n",
    "        for m in range(m_size-1, -1, -1): # [m_size-1,0]\n",
    "            E[m][n] = E[m][n] \\\n",
    "                + np.dot(HARB_AFP, P[m-1][n]) \\\n",
    "                + np.dot(AbR, E[m+1][n]) # eqn. (34)"
   ]
  },
  {
   "cell_type": "code",
   "execution_count": null,
   "metadata": {
    "collapsed": true
   },
   "outputs": [],
   "source": [
    "def alg5_stage45(m_size, n_size, matrices, carries):\n",
    "    '''Algorithm 5 stages 4 and 5'''\n",
    "    # unpack seven other pre-computed matrices\n",
    "    AbFT, AbRT, HARB_AFPT, HARB_AFBT, ARB_AFP, TAFBT, ARE = matrices[9:16]\n",
    "    P, E, Pt, Et = carries # unpack carries\n",
    "    for m in range(m_size): # In parallel for all m,\n",
    "        for n in range(n_size): # sequentially for each n,\n",
    "            Pt[m][n] = Pt[m][n] \\\n",
    "                + np.dot(ARB_AFP, np.dot(P[m-1][n], TAFBT)) \\\n",
    "                + np.dot(ARE, np.dot(E[m+1][n], TAFBT)) \\\n",
    "                + np.dot(Pt[m][n-1], AbFT) # eqn. (37)\n",
    "        for n in range(n_size-1, -1, -1): # [n_size-1,0]\n",
    "            Et[m][n] = Et[m][n] \\\n",
    "                + np.dot(ARB_AFP, np.dot(P[m-1][n], HARB_AFBT)) \\\n",
    "                + np.dot(ARE, np.dot(E[m+1][n], HARB_AFBT)) \\\n",
    "                + np.dot(Pt[m][n-1], HARB_AFPT) \\\n",
    "                + np.dot(Et[m][n+1], AbRT) # eqn. (39)"
   ]
  },
  {
   "cell_type": "code",
   "execution_count": null,
   "metadata": {
    "collapsed": true
   },
   "outputs": [],
   "source": [
    "def alg5_stage6(m_size, n_size, wgt, carries, blocks):\n",
    "    '''Algorithm 5 stage 6'''\n",
    "    P, E, Pt, Et = carries # unpack carries\n",
    "    for n in range(n_size):\n",
    "        for m in range(m_size):\n",
    "            B = blocks[m][n]\n",
    "            B = F(P[m-1][n], B, wgt)\n",
    "            B = R(B, E[m+1][n], wgt)\n",
    "            B = FT(Pt[m][n-1], B, wgt)\n",
    "            B = RT(B, Et[m][n+1], wgt)\n",
    "            blocks[m][n] = B"
   ]
  },
  {
   "cell_type": "markdown",
   "metadata": {},
   "source": [
    "## alg5cpe: Algorithm 5 Constant-Padding Extension functions"
   ]
  },
  {
   "cell_type": "code",
   "execution_count": null,
   "metadata": {
    "collapsed": true
   },
   "outputs": [],
   "source": [
    "def build_cpe_matrices(r, wgt, alg5m):\n",
    "    '''Build constant-padding extension matrices'''\n",
    "    Ir, AFP = alg5m[2], alg5m[4]\n",
    "    ArF, ArR, AbarF, AbarR = alg5m[17:21]\n",
    "    sysA, sysb = np.zeros((r*r, r*r)), np.zeros(r*r)\n",
    "    for i in range(r):\n",
    "        for j in range(r):\n",
    "            k = r*i + j\n",
    "            sysA[k][k] = 1.\n",
    "            for q in range(r):\n",
    "                for p in range(r):\n",
    "                    u = r*p + q\n",
    "                    sysA[k][u] -= ArR[j][q] * ArF[p][i]\n",
    "            sysb[k] = AbarR[j][i]\n",
    "    sysx = linalg.lu_solve(linalg.lu_factor(sysA), sysb)\n",
    "    SRF = np.zeros((r, r))\n",
    "    for i in range(r):\n",
    "        for j in range(r):\n",
    "            k = r*i + j\n",
    "            SRF[j][i] = sysx[k]\n",
    "    IArF, IArR = Ir - ArF, Ir - ArR\n",
    "    SF, SR = np.linalg.inv(IArF), np.linalg.inv(IArR)\n",
    "    SFAbarF, SRFArF = np.dot(SF, AbarF), np.dot(SRF, ArF)\n",
    "    SRAbaRSRFArFSFAbarF = np.dot(np.dot((np.dot(SR, AbarR) - np.dot(SRF, ArF)), SF), AbarF)\n",
    "    AbarFSFT, ArFSRFT = SFAbarF.transpose(), SRFArF.transpose()\n",
    "    AbarFSFSRAbaRSRFArFT = SRAbaRSRFArFSFAbarF.transpose()\n",
    "    return (SFAbarF, SRFArF, SRAbaRSRFArFSFAbarF, AbarFSFT, ArFSRFT, AbarFSFSRAbaRSRFArFT)"
   ]
  },
  {
   "cell_type": "code",
   "execution_count": null,
   "metadata": {
    "collapsed": true
   },
   "outputs": [],
   "source": [
    "def alg5_cpe_stage1(m_size, n_size, r, wgt, matrices, carries, blocks):\n",
    "    '''Algorithm 5 constant-padding extension stage 1\n",
    "    The algorithm stage 5.1 for the CPE differs from the original 5.1\n",
    "    for zero-padding by saving in outside carries the X and Zhat values\n",
    "    needed by the next fixing stages'''\n",
    "    Zrb, Zbr = matrices[:2] # unpack first two pre-computed matrices\n",
    "    P, E, Pt, Et = carries # unpack carries\n",
    "    for n in range(n_size):\n",
    "        for m in range(m_size):\n",
    "            B = blocks[m][n]\n",
    "            if m == 0:\n",
    "                P[-1][n] = np.tile(H(B, 1), (r, 1)) # replicate first row r times\n",
    "            elif m == m_size-1:\n",
    "                E[m_size][n] = np.tile(T(B, 1), (r, 1)) # replicate last row r times\n",
    "            B = F(Zrb, B, wgt)\n",
    "            P[m][n] = T(B, r)\n",
    "            B = R(B, Zrb, wgt)\n",
    "            E[m][n] = H(B, r)\n",
    "            if n == 0:\n",
    "                Pt[m][-1] = np.tile(HT(B, 1), (1, r)) # replicate first column r times\n",
    "            elif n == n_size-1:\n",
    "                Et[m][n_size] = np.tile(TT(B, 1), (1, r)) # replicate last column r times\n",
    "            B = FT(Zbr, B, wgt)\n",
    "            Pt[m][n] = TT(B, r)\n",
    "            B = RT(B, Zbr, wgt)\n",
    "            Et[m][n] = HT(B, r)"
   ]
  },
  {
   "cell_type": "code",
   "execution_count": null,
   "metadata": {
    "collapsed": true
   },
   "outputs": [],
   "source": [
    "def alg5_cpe_stage23(m_size, n_size, matrices, cpe_matrices, carries):\n",
    "    '''Algorithm 5 constant-padding extension stages 2 and 3'''\n",
    "    AbF, AbR, HARB_AFP = matrices[6:9] # unpack three pre-computed matrices\n",
    "    SFAbarF, SRFArF, SRAbaRSRFArFSFAbarF = cpe_matrices[:3] # unpack three pre-computed CPE matrices\n",
    "    P, E, Pt, Et = carries # unpack carries\n",
    "    for n in range(n_size): # In parallel for all n,\n",
    "        # prior to enter the image from top to bottom (a.k.a. m = -1 index)\n",
    "        P[-1][n] = np.dot(SFAbarF, P[-1][n]) # *NEW PAPER* eqn. (13)\n",
    "        for m in range(m_size): # sequentially for each m,\n",
    "            P[m][n] = P[m][n] \\\n",
    "                + np.dot(AbF, P[m-1][n]) # eqn. (24)\n",
    "        # prior to enter the image from bottom to top (a.k.a. m = m_size index)\n",
    "        E[m_size][n] = np.dot(SRFArF, P[m_size-1][n]) \\\n",
    "                + np.dot(SRAbaRSRFArFSFAbarF, E[m_size][n]) # *NEW PAPER* eqn. (22)\n",
    "        for m in range(m_size-1, -1, -1): # [m_size-1,0]\n",
    "            E[m][n] = E[m][n] \\\n",
    "                + np.dot(HARB_AFP, P[m-1][n]) \\\n",
    "                + np.dot(AbR, E[m+1][n]) # eqn. (34)"
   ]
  },
  {
   "cell_type": "code",
   "execution_count": null,
   "metadata": {
    "collapsed": true
   },
   "outputs": [],
   "source": [
    "def alg5_cpe_stage45(m_size, n_size, r, matrices, cpe_matrices, carries):\n",
    "    '''Algorithm 5 constant-padding extension stages 4 and 5'''\n",
    "    # unpack seven other pre-computed matrices\n",
    "    AbFT, AbRT, HARB_AFPT, HARB_AFBT, ARB_AFP, TAFBT, ARE = matrices[9:16]\n",
    "    # unpack three pre-computed CPE matrices\n",
    "    AbarFSFT, ArFSRFT, AbarFSFSRAbaRSRFArFT = cpe_matrices[3:]\n",
    "    P, E, Pt, Et = carries # unpack carries\n",
    "    for m in range(m_size): # In parallel for all m,\n",
    "        # prior to enter the image from left to right (a.k.a. n = -1 index)\n",
    "        # compute one-up corner north west (cnw) from fixed prologues at the first column of blocks (n = 0)\n",
    "        cnw = np.tile(HT(P[m-1][0], 1), (1, r)) # replicate first column r times\n",
    "        # compute one-down corner south west (csw) from fixed epilogues at the first column of blocks (n = 0)\n",
    "        csw = np.tile(HT(E[m+1][0], 1), (1, r)) # replicate first column r times\n",
    "        # fixing Pt_-1(Zhat) -> Pt_-1(Z)\n",
    "        Pt[m][-1] = Pt[m][-1] \\\n",
    "            + np.dot(ARB_AFP, cnw) \\\n",
    "            + np.dot(ARE, csw) # *SIMPLIFIED* *OLD* eqn. (37)\n",
    "        # fixing Pt_-1(Z) -> Pt_-1(U)\n",
    "        Pt[m][-1] = np.dot(Pt[m][-1], AbarFSFT) # *NEW PAPER* *TRANSPOSED* eqn. (13)\n",
    "        for n in range(n_size): # sequentially for each n,\n",
    "            Pt[m][n] = Pt[m][n] \\\n",
    "                + np.dot(ARB_AFP, np.dot(P[m-1][n], TAFBT)) \\\n",
    "                + np.dot(ARE, np.dot(E[m+1][n], TAFBT)) \\\n",
    "                + np.dot(Pt[m][n-1], AbFT) # eqn. (37)\n",
    "        # prior to enter the image from right to left (a.k.a. n = n_size index)\n",
    "        # compute one-up corner north east (cne) from fixed prologues at the last column of blocks (n = n_size-1)\n",
    "        cne = np.tile(TT(P[m-1][n_size-1], 1), (1, r)) # replicate last column r times\n",
    "        # compute one-down corner south east (cse) from fixed epilogues at the last column of blocks (n = n_size-1)\n",
    "        cse = np.tile(TT(E[m+1][n_size-1], 1), (1, r)) # replicate last column r times\n",
    "        # fixing Et_N(Zhat) -> Et_N(Z)\n",
    "        Et[m][n_size] = Et[m][n_size] \\\n",
    "            + np.dot(ARB_AFP, cne) \\\n",
    "            + np.dot(ARE, cse) # *SIMPLIFIED* *OLD* eqn. (37)\n",
    "        # fixing Et_N(Z) -> Et_N(U)\n",
    "        Et[m][n_size] = np.dot(Pt[m][n_size-1], ArFSRFT) \\\n",
    "                + np.dot(Et[m][n_size], AbarFSFSRAbaRSRFArFT) # *NEW PAPER* *TRANSPOSED* eqn. (22)\n",
    "        for n in range(n_size-1, -1, -1): # [n_size-1,0]\n",
    "            Et[m][n] = Et[m][n] \\\n",
    "                + np.dot(ARB_AFP, np.dot(P[m-1][n], HARB_AFBT)) \\\n",
    "                + np.dot(ARE, np.dot(E[m+1][n], HARB_AFBT)) \\\n",
    "                + np.dot(Pt[m][n-1], HARB_AFPT) \\\n",
    "                + np.dot(Et[m][n+1], AbRT) # eqn. (39)"
   ]
  },
  {
   "cell_type": "markdown",
   "metadata": {},
   "source": [
    "## alg5pe: Algorithm 5 Periodic Extension functions"
   ]
  },
  {
   "cell_type": "code",
   "execution_count": null,
   "metadata": {
    "collapsed": true
   },
   "outputs": [],
   "source": [
    "def build_pe_matrices(r, wgt, alg5m):\n",
    "    '''Build periodic extension matrices'''\n",
    "    Ir = alg5m[2]\n",
    "    AwF, AwR, AhF, AhR = alg5m[21:25]\n",
    "    IAwF = np.linalg.inv(Ir - AwF)\n",
    "    IAwR = np.linalg.inv(Ir - AwR)\n",
    "    IAhF = np.linalg.inv(Ir - AhF).transpose()\n",
    "    IAhR = np.linalg.inv(Ir - AhR).transpose()\n",
    "    return (IAhF, IAhR, IAwF, IAwR)"
   ]
  },
  {
   "cell_type": "code",
   "execution_count": null,
   "metadata": {
    "collapsed": true
   },
   "outputs": [],
   "source": [
    "def alg5_pe_stage23(m_size, n_size, matrices, pe_matrices, carries):\n",
    "    '''Algorithm 5 periodic extension stages 2 and 3'''\n",
    "    Zrb = matrices[0]\n",
    "    AbF, AbR, HARB_AFP = matrices[6:9] # unpack three pre-computed matrices\n",
    "    IAhF, IAhR = pe_matrices[:2] # unpack first two pre-computed PE matrices\n",
    "    P, E, Pt, Et = carries # unpack carries\n",
    "    for n in range(n_size): # In parallel for all n,\n",
    "        PM1Y = np.copy(Zrb)\n",
    "        for m in range(m_size): # sequentially for each m,\n",
    "            PM1Y = P[m][n] \\\n",
    "                + np.dot(AbF, PM1Y) # eqn. (24)\n",
    "        P[-1][n] = np.dot(IAhF, PM1Y) # *NEW PAPER* eqn. (39)\n",
    "        for m in range(m_size): # sequentially for each m,\n",
    "            P[m][n] = P[m][n] \\\n",
    "                + np.dot(AbF, P[m-1][n]) # eqn. (24)\n",
    "        E0Z = np.copy(Zrb)\n",
    "        for m in range(m_size-1, -1, -1): # [m_size-1,0]\n",
    "            E0Z = E[m][n] \\\n",
    "                + np.dot(HARB_AFP, P[m-1][n]) \\\n",
    "                + np.dot(AbR, E0Z) # eqn. (34)\n",
    "        E[m_size][n] = np.dot(IAhR, E0Z) # *NEW PAPER* eqn. (41)\n",
    "        for m in range(m_size-1, -1, -1): # [m_size-1,0]\n",
    "            E[m][n] = E[m][n] \\\n",
    "                + np.dot(HARB_AFP, P[m-1][n]) \\\n",
    "                + np.dot(AbR, E[m+1][n]) # eqn. (34)"
   ]
  },
  {
   "cell_type": "code",
   "execution_count": null,
   "metadata": {
    "collapsed": true
   },
   "outputs": [],
   "source": [
    "def alg5_pe_stage45(m_size, n_size, r, matrices, pe_matrices, carries):\n",
    "    '''Algorithm 5 periodic extension stages 4 and 5'''\n",
    "    # unpack seven other pre-computed matrices\n",
    "    AbFT, AbRT, HARB_AFPT, HARB_AFBT, ARB_AFP, TAFBT, ARE = matrices[9:16]\n",
    "    Zbr = matrices[1]\n",
    "    IAwF, IAwR = pe_matrices[2:] # unpack second two pre-computed PE matrices\n",
    "    P, E, Pt, Et = carries # unpack carries\n",
    "    for m in range(m_size): # In parallel for all m,\n",
    "        PtNU = np.copy(Zbr)\n",
    "        for n in range(n_size): # sequentially for each n,\n",
    "            PtNU = Pt[m][n] \\\n",
    "                + np.dot(ARB_AFP, np.dot(P[m-1][n], TAFBT)) \\\n",
    "                + np.dot(ARE, np.dot(E[m+1][n], TAFBT)) \\\n",
    "                + np.dot(PtNU, AbFT) # eqn. (37)\n",
    "        Pt[m][-1] = np.dot(PtNU, IAwF) # *NEW PAPER* eqn. (39)\n",
    "        for n in range(n_size): # sequentially for each n,\n",
    "            Pt[m][n] = Pt[m][n] \\\n",
    "                + np.dot(ARB_AFP, np.dot(P[m-1][n], TAFBT)) \\\n",
    "                + np.dot(ARE, np.dot(E[m+1][n], TAFBT)) \\\n",
    "                + np.dot(Pt[m][n-1], AbFT) # eqn. (37)\n",
    "        Et0V = np.copy(Zbr)\n",
    "        for n in range(n_size-1, -1, -1): # [n_size-1,0]\n",
    "            Et0V = Et[m][n] \\\n",
    "                + np.dot(ARB_AFP, np.dot(P[m-1][n], HARB_AFBT)) \\\n",
    "                + np.dot(ARE, np.dot(E[m+1][n], HARB_AFBT)) \\\n",
    "                + np.dot(Pt[m][n-1], HARB_AFPT) \\\n",
    "                + np.dot(Et0V, AbRT) # eqn. (39)\n",
    "        Et[m][n_size] = np.dot(Et0V, IAwR) # *NEW PAPER* eqn. (41)\n",
    "        for n in range(n_size-1, -1, -1): # [n_size-1,0]\n",
    "            Et[m][n] = Et[m][n] \\\n",
    "                + np.dot(ARB_AFP, np.dot(P[m-1][n], HARB_AFBT)) \\\n",
    "                + np.dot(ARE, np.dot(E[m+1][n], HARB_AFBT)) \\\n",
    "                + np.dot(Pt[m][n-1], HARB_AFPT) \\\n",
    "                + np.dot(Et[m][n+1], AbRT) # eqn. (39)"
   ]
  },
  {
   "cell_type": "markdown",
   "metadata": {},
   "source": [
    "## alg5epe: Algorithm 5 Even-Periodic Extension functions"
   ]
  },
  {
   "cell_type": "code",
   "execution_count": null,
   "metadata": {
    "collapsed": true
   },
   "outputs": [],
   "source": [
    "def build_epe_matrices(r, wgt, alg5m):\n",
    "    '''Build even-periodic extension matrices'''\n",
    "    Ir, AbF, AbR = alg5m[2], alg5m[6], alg5m[7]\n",
    "    K, ArF, ArR, AbarF, AbarR, AwF, AwR, AhF, AhR = alg5m[16:25]\n",
    "    L = np.dot(np.linalg.inv(K - ArR), AbarR)\n",
    "    IA2wF = np.linalg.inv(Ir - np.dot(AwF, AwF))\n",
    "    IA2hF = np.linalg.inv(Ir - np.dot(AhF, AhF))\n",
    "    AbarFi = np.linalg.inv(AbarF)\n",
    "    M1w = np.dot(IA2wF, np.dot(K, np.dot(AbarFi, (Ir - np.dot(ArF, ArR)))))\n",
    "    M2w = np.dot(IA2wF, (AwF + np.dot(K, np.dot(AwR, np.dot(AbarFi, np.dot(ArF, AbarR))))))\n",
    "    M1h = np.dot(IA2hF, np.dot(K, np.dot(AbarFi, (Ir - np.dot(ArF, ArR)))))\n",
    "    M2h = np.dot(IA2hF, (AhF + np.dot(K, np.dot(AhR, np.dot(AbarFi, np.dot(ArF, AbarR))))))\n",
    "    return L, M1w, M2w, M1h, M2h"
   ]
  },
  {
   "cell_type": "code",
   "execution_count": null,
   "metadata": {
    "collapsed": true
   },
   "outputs": [],
   "source": [
    "def alg5_epe_stage23(m_size, n_size, matrices, epe_matrices, carries):\n",
    "    '''Algorithm 5 even-periodic extension stages 2 and 3'''\n",
    "    # unpack five pre-computed matrices\n",
    "    Zrb, AhF = matrices[0], matrices[23]\n",
    "    AbF, AbR, HARB_AFP = matrices[6:9]\n",
    "    # unpack three pre-computed EPE matrices\n",
    "    L, M1h, M2h = epe_matrices[0], epe_matrices[3], epe_matrices[4]\n",
    "    P, E, Pt, Et = carries # unpack carries\n",
    "    tP = np.copy(P) # temp P\n",
    "    for n in range(n_size): # In parallel for all n,\n",
    "        E0Z = np.copy(Zrb)\n",
    "        for m in range(m_size): # sequentially for each m,\n",
    "            tP[m][n] = tP[m][n] \\\n",
    "                + np.dot(AbF, tP[m-1][n]) # eqn. (24)\n",
    "        for m in range(m_size-1, -1, -1): # [m_size-1,0]\n",
    "            E0Z = E[m][n] \\\n",
    "                + np.dot(HARB_AFP, tP[m-1][n]) \\\n",
    "                + np.dot(AbR, E0Z) # eqn. (34)\n",
    "        P[-1][n] = np.dot(M1h, E0Z) \\\n",
    "            + np.dot(M2h, tP[m_size-1][n]) # *NEW PAPER* eqn. (57)\n",
    "        E[m_size][n] = np.dot(L, \\\n",
    "            (np.dot(AhF, P[-1][n]) + tP[m_size-1][n])) # *NEW PAPER* eqn. (62)\n",
    "        for m in range(m_size): # sequentially for each m,\n",
    "            P[m][n] = P[m][n] \\\n",
    "                + np.dot(AbF, P[m-1][n]) # eqn. (24)\n",
    "        for m in range(m_size-1, -1, -1): # [m_size-1,0]\n",
    "            E[m][n] = E[m][n] \\\n",
    "                + np.dot(HARB_AFP, P[m-1][n]) \\\n",
    "                + np.dot(AbR, E[m+1][n]) # eqn. (34)"
   ]
  },
  {
   "cell_type": "code",
   "execution_count": null,
   "metadata": {
    "collapsed": true
   },
   "outputs": [],
   "source": [
    "def alg5_epe_stage45(m_size, n_size, r, matrices, epe_matrices, carries):\n",
    "    '''Algorithm 5 even-periodic extension stages 4 and 5'''\n",
    "    # unpack nine other pre-computed matrices\n",
    "    Zbr, AwF = matrices[1], matrices[21]\n",
    "    AbFT, AbRT, HARB_AFPT, HARB_AFBT, ARB_AFP, TAFBT, ARE = matrices[9:16]\n",
    "    # unpack three pre-computed EPE matrices\n",
    "    L, M1w, M2w = epe_matrices[0:3]\n",
    "    P, E, Pt, Et = carries # unpack carries\n",
    "    tPt = np.copy(Pt) # temp Pt\n",
    "    for m in range(m_size): # In parallel for all m,\n",
    "        Et0V = np.copy(Zbr)\n",
    "        for n in range(n_size): # sequentially for each n,\n",
    "            tPt[m][n] = tPt[m][n] \\\n",
    "                + np.dot(ARB_AFP, np.dot(P[m-1][n], TAFBT)) \\\n",
    "                + np.dot(ARE, np.dot(E[m+1][n], TAFBT)) \\\n",
    "                + np.dot(tPt[m][n-1], AbFT) # eqn. (37)\n",
    "        for n in range(n_size-1, -1, -1): # [n_size-1,0]\n",
    "            Et0V = Et[m][n] \\\n",
    "                + np.dot(ARB_AFP, np.dot(P[m-1][n], HARB_AFBT)) \\\n",
    "                + np.dot(ARE, np.dot(E[m+1][n], HARB_AFBT)) \\\n",
    "                + np.dot(tPt[m][n-1], HARB_AFPT) \\\n",
    "                + np.dot(Et0V, AbRT) # eqn. (39)\n",
    "        Pt[m][-1] = np.dot(Et0V, M1w.transpose()) \\\n",
    "            + np.dot(tPt[m][n_size-1], M2w.transpose()) # *NEW PAPER* eqn. (57)\n",
    "        Et[m][n_size] = np.dot((np.dot(Pt[m][-1], \\\n",
    "            AwF.transpose()) + tPt[m][n_size-1]), L.transpose()) # *NEW PAPER* eqn. (62)\n",
    "        for n in range(n_size): # sequentially for each n,\n",
    "            Pt[m][n] = Pt[m][n] \\\n",
    "                + np.dot(ARB_AFP, np.dot(P[m-1][n], TAFBT)) \\\n",
    "                + np.dot(ARE, np.dot(E[m+1][n], TAFBT)) \\\n",
    "                + np.dot(Pt[m][n-1], AbFT) # eqn. (37)\n",
    "        for n in range(n_size-1, -1, -1): # [n_size-1,0]\n",
    "            Et[m][n] = Et[m][n] \\\n",
    "                + np.dot(ARB_AFP, np.dot(P[m-1][n], HARB_AFBT)) \\\n",
    "                + np.dot(ARE, np.dot(E[m+1][n], HARB_AFBT)) \\\n",
    "                + np.dot(Pt[m][n-1], HARB_AFPT) \\\n",
    "                + np.dot(Et[m][n+1], AbRT) # eqn. (39)"
   ]
  },
  {
   "cell_type": "code",
   "execution_count": null,
   "metadata": {
    "collapsed": false
   },
   "outputs": [],
   "source": [
    "print 'All functions loaded successfully!'"
   ]
  }
 ],
 "metadata": {
  "kernelspec": {
   "display_name": "Python 2",
   "language": "python",
   "name": "python2"
  },
  "language_info": {
   "codemirror_mode": {
    "name": "ipython",
    "version": 2
   },
   "file_extension": ".py",
   "mimetype": "text/x-python",
   "name": "python",
   "nbconvert_exporter": "python",
   "pygments_lexer": "ipython2",
   "version": "2.7.9"
  }
 },
 "nbformat": 4,
 "nbformat_minor": 0
}
