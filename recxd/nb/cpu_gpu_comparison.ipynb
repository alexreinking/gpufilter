{
 "cells": [
  {
   "cell_type": "code",
   "execution_count": 1,
   "metadata": {
    "ExecuteTime": {
     "end_time": "2020-12-27T10:31:01.677516Z",
     "start_time": "2020-12-27T10:30:57.799146Z"
    }
   },
   "outputs": [],
   "source": [
    "import pandas as pd"
   ]
  },
  {
   "cell_type": "code",
   "execution_count": null,
   "metadata": {},
   "outputs": [],
   "source": [
    "l_columns = ['Chip', 'Model name', 'Family arch', 'Release year', 'Number of cores', 'Bandwidth']"
   ]
  },
  {
   "cell_type": "code",
   "execution_count": null,
   "metadata": {},
   "outputs": [],
   "source": [
    "l_rows = [\n",
    "    ('CPU', 'Pentium 4', 'Netburst', 2001, 1, 1.8),\n",
    "    ('CPU', 'Pentium D 840', 'Netburst', 2005, 2, 3.4),\n",
    "    ('CPU', 'i7-975', 'Nehalem', 2009, 4, 25.6),\n",
    "    ('CPU', 'i7-4960X', 'Ivy Bridge', 2013, 6, 59.7),\n",
    "    ('CPU', 'i9-7980XE', 'Skylake', 2017, 18, 85.3),\n",
    "    ('GPU', 'TITAN RTX', 'Turing', 2018, 3072, 672)\n",
    "]"
   ]
  }
 ],
 "metadata": {
  "kernelspec": {
   "display_name": "Python 3",
   "language": "python",
   "name": "python3"
  },
  "language_info": {
   "codemirror_mode": {
    "name": "ipython",
    "version": 3
   },
   "file_extension": ".py",
   "mimetype": "text/x-python",
   "name": "python",
   "nbconvert_exporter": "python",
   "pygments_lexer": "ipython3",
   "version": "3.7.2"
  }
 },
 "nbformat": 4,
 "nbformat_minor": 2
}
